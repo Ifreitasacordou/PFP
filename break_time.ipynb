{
 "cells": [
  {
   "cell_type": "markdown",
   "metadata": {},
   "source": [
    "## Programming Foundations with Python | Udacity\n",
    "\n",
    "<b>Mini-Projeto 1 - Break time</b>\n",
    "\n",
    "<b><u>Descrição:</u></b>\n",
    "\n",
    "Crie um programa que abra um nova aba no seu navegador com o link da sua música favorita postada no YouTube. <br> Este processo deverá se repetir a cada 2 horas."
   ]
  },
  {
   "cell_type": "code",
   "execution_count": 7,
   "metadata": {},
   "outputs": [],
   "source": [
    "#Importação das bibliotecas\n",
    "\n",
    "import webbrowser\n",
    "import time"
   ]
  },
  {
   "cell_type": "code",
   "execution_count": 9,
   "metadata": {},
   "outputs": [
    {
     "name": "stdout",
     "output_type": "stream",
     "text": [
      "O programa inciou em Fri Aug 10 00:28:08 2018\n"
     ]
    }
   ],
   "source": [
    "#Primeira solução\n",
    "#Abrindo uma nova aba no seu navegador após 2 horas -> 120 minutos -> 7200 segundos\n",
    "\n",
    "print(\"O programa iniciou em \" + time.ctime())\n",
    "for i in range(3):        \n",
    "    time.sleep(7200)\n",
    "    webbrowser.open('https://www.youtube.com/watch?v=GRxofEmo3HA&t=858s')"
   ]
  },
  {
   "cell_type": "code",
   "execution_count": 10,
   "metadata": {},
   "outputs": [
    {
     "name": "stdout",
     "output_type": "stream",
     "text": [
      "O programa inciou em Fri Aug 10 00:30:13 2018\n"
     ]
    }
   ],
   "source": [
    "#Segunda solução\n",
    "\n",
    "print(\"O programa iniciou em \" + time.ctime())\n",
    "breaks = 3\n",
    "count_breaks = 0\n",
    "\n",
    "while count_breaks < breaks:\n",
    "    time.sleep(7200)\n",
    "    webbrowser.open('https://www.youtube.com/watch?v=GRxofEmo3HA&t=858s')\n",
    "    count_breaks += 1"
   ]
  }
 ],
 "metadata": {
  "kernelspec": {
   "display_name": "Python 3",
   "language": "python",
   "name": "python3"
  },
  "language_info": {
   "codemirror_mode": {
    "name": "ipython",
    "version": 3
   },
   "file_extension": ".py",
   "mimetype": "text/x-python",
   "name": "python",
   "nbconvert_exporter": "python",
   "pygments_lexer": "ipython3",
   "version": "3.6.5"
  }
 },
 "nbformat": 4,
 "nbformat_minor": 2
}
