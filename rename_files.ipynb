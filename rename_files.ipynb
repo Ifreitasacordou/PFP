{
 "cells": [
  {
   "cell_type": "code",
   "execution_count": 3,
   "metadata": {},
   "outputs": [],
   "source": [
    "#Importação de bibliotecas\n",
    "import os"
   ]
  },
  {
   "cell_type": "code",
   "execution_count": 43,
   "metadata": {},
   "outputs": [
    {
     "name": "stdout",
     "output_type": "stream",
     "text": [
      "['.DS_Store', 'athens.jpg', 'austin.jpg', 'bangalore.jpg', 'barcelona.jpg', 'beijing.jpg', 'berkeley.jpg', 'bogota.jpg', 'bristol.jpg', 'bucharest.jpg', 'buenos aires.jpg', 'cairo.jpg', 'chennai.jpg', 'chicago.jpg', 'colombo.jpg', 'dallas.jpg', 'delhi.jpg', 'edinbrugh.jpg', 'gainesville.jpg', 'houston.jpg', 'hyderabad.jpg', 'istanbul.jpg', 'ithaca.jpg', 'jacksonville.jpg', 'karachi.jpg', 'kiev.jpg', 'london.jpg', 'los angeles.jpg', 'madrid.jpg', 'manchester.jpg', 'miami.jpg', 'new york.jpg', 'oakland.jpg', 'pune.jpg', 'rochester.jpg', 'san diego.jpg', 'san jose.jpg', 'sao paulo.jpg', 'seattle.jpg', 'seoul.jpg', 'shanghai.jpg', 'singapore.jpg', 'sunnyvale.jpg', 'sydney.jpg', 'tel aviv.jpg']\n",
      "\n",
      "Trabalhando no diretório C:\\users\\Igor\\Desktop\\prank\n"
     ]
    }
   ],
   "source": [
    "def main():\n",
    "    def rename_files():\n",
    "        \n",
    "        #Listar tudo que há dentro do diretório\n",
    "        #O \"r\" antes do path significa rawpack diz ao Python para usar exatamente essa string\n",
    "        file_list = os.listdir(r\"C:\\users\\Igor\\Desktop\\prank\")\n",
    "        print(file_list)\n",
    "        \n",
    "        #Salvar o caminho atual do diretório\n",
    "        saved_path = os.getcwd()\n",
    "        print('')\n",
    "        print(\"Trabalhando no diretório \" + saved_path)\n",
    "        \n",
    "        #Muda para o diretório descrito\n",
    "        os.chdir(r\"C:\\users\\Igor\\Desktop\\prank\")    \n",
    "\n",
    "        for file_name in file_list:       \n",
    "            #Para cada file_name encontrado no file_list, será renomeado removendo os números do nome\n",
    "            #maketrans,argumentos -> mudar str 'y', para 'x', deletar os characters '...'\n",
    "            os.rename(file_name, file_name.translate(str.maketrans('','','1234567890')))\n",
    "        os.chdir(saved_path)\n",
    "\n",
    "    rename_files()\n",
    "    \n",
    "#Executa a função main apenas se este script principal seja executado\n",
    "if __name__ == \"__main__\":\n",
    "    main()"
   ]
  },
  {
   "cell_type": "code",
   "execution_count": null,
   "metadata": {},
   "outputs": [],
   "source": []
  }
 ],
 "metadata": {
  "kernelspec": {
   "display_name": "Python 3",
   "language": "python",
   "name": "python3"
  },
  "language_info": {
   "codemirror_mode": {
    "name": "ipython",
    "version": 3
   },
   "file_extension": ".py",
   "mimetype": "text/x-python",
   "name": "python",
   "nbconvert_exporter": "python",
   "pygments_lexer": "ipython3",
   "version": "3.6.5"
  }
 },
 "nbformat": 4,
 "nbformat_minor": 2
}
